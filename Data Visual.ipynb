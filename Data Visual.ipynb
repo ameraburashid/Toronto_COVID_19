{
 "cells": [
  {
   "cell_type": "markdown",
   "metadata": {},
   "source": [
    "This notebook looks at the COVID-19 Cases from Toronto Public Health since the first case was reported in January 2020\n",
    "- This project is an exploratory analysis "
   ]
  },
  {
   "cell_type": "code",
   "execution_count": 1,
   "metadata": {},
   "outputs": [],
   "source": [
    "import pandas as pd\n",
    "import numpy as np\n",
    "import seaborn as sns\n",
    "import matplotlib.pyplot as plt "
   ]
  },
  {
   "cell_type": "code",
   "execution_count": 45,
   "metadata": {},
   "outputs": [],
   "source": [
    "data = pd.read_csv(\"Data/COVID19_cases_Toronto.csv\")"
   ]
  },
  {
   "cell_type": "code",
   "execution_count": 46,
   "metadata": {},
   "outputs": [
    {
     "data": {
      "text/html": [
       "<div>\n",
       "<style scoped>\n",
       "    .dataframe tbody tr th:only-of-type {\n",
       "        vertical-align: middle;\n",
       "    }\n",
       "\n",
       "    .dataframe tbody tr th {\n",
       "        vertical-align: top;\n",
       "    }\n",
       "\n",
       "    .dataframe thead th {\n",
       "        text-align: right;\n",
       "    }\n",
       "</style>\n",
       "<table border=\"1\" class=\"dataframe\">\n",
       "  <thead>\n",
       "    <tr style=\"text-align: right;\">\n",
       "      <th></th>\n",
       "      <th>_id</th>\n",
       "      <th>Outbreak Associated</th>\n",
       "      <th>Age Group</th>\n",
       "      <th>Neighbourhood Name</th>\n",
       "      <th>FSA</th>\n",
       "      <th>Source of Infection</th>\n",
       "      <th>Classification</th>\n",
       "      <th>Episode Date</th>\n",
       "      <th>Reported Date</th>\n",
       "      <th>Client Gender</th>\n",
       "      <th>Outcome</th>\n",
       "      <th>Currently Hospitalized</th>\n",
       "      <th>Currently in ICU</th>\n",
       "      <th>Currently Intubated</th>\n",
       "      <th>Ever Hospitalized</th>\n",
       "      <th>Ever in ICU</th>\n",
       "      <th>Ever Intubated</th>\n",
       "    </tr>\n",
       "  </thead>\n",
       "  <tbody>\n",
       "    <tr>\n",
       "      <th>0</th>\n",
       "      <td>44294</td>\n",
       "      <td>Sporadic</td>\n",
       "      <td>50-59</td>\n",
       "      <td>Malvern</td>\n",
       "      <td>M1B</td>\n",
       "      <td>Institutional</td>\n",
       "      <td>CONFIRMED</td>\n",
       "      <td>2020-03-25</td>\n",
       "      <td>2020-03-27</td>\n",
       "      <td>MALE</td>\n",
       "      <td>RESOLVED</td>\n",
       "      <td>No</td>\n",
       "      <td>No</td>\n",
       "      <td>No</td>\n",
       "      <td>No</td>\n",
       "      <td>No</td>\n",
       "      <td>No</td>\n",
       "    </tr>\n",
       "    <tr>\n",
       "      <th>1</th>\n",
       "      <td>44295</td>\n",
       "      <td>Sporadic</td>\n",
       "      <td>20-29</td>\n",
       "      <td>Malvern</td>\n",
       "      <td>M1B</td>\n",
       "      <td>Community</td>\n",
       "      <td>CONFIRMED</td>\n",
       "      <td>2020-03-20</td>\n",
       "      <td>2020-03-28</td>\n",
       "      <td>MALE</td>\n",
       "      <td>RESOLVED</td>\n",
       "      <td>No</td>\n",
       "      <td>No</td>\n",
       "      <td>No</td>\n",
       "      <td>Yes</td>\n",
       "      <td>No</td>\n",
       "      <td>No</td>\n",
       "    </tr>\n",
       "    <tr>\n",
       "      <th>2</th>\n",
       "      <td>44296</td>\n",
       "      <td>Sporadic</td>\n",
       "      <td>60-69</td>\n",
       "      <td>Malvern</td>\n",
       "      <td>M1B</td>\n",
       "      <td>Travel</td>\n",
       "      <td>CONFIRMED</td>\n",
       "      <td>2020-03-04</td>\n",
       "      <td>2020-03-08</td>\n",
       "      <td>FEMALE</td>\n",
       "      <td>RESOLVED</td>\n",
       "      <td>No</td>\n",
       "      <td>No</td>\n",
       "      <td>No</td>\n",
       "      <td>Yes</td>\n",
       "      <td>Yes</td>\n",
       "      <td>Yes</td>\n",
       "    </tr>\n",
       "    <tr>\n",
       "      <th>3</th>\n",
       "      <td>44297</td>\n",
       "      <td>Outbreak Associated</td>\n",
       "      <td>50-59</td>\n",
       "      <td>Rouge</td>\n",
       "      <td>M1B</td>\n",
       "      <td>N/A - Outbreak associated</td>\n",
       "      <td>CONFIRMED</td>\n",
       "      <td>2020-05-02</td>\n",
       "      <td>2020-05-04</td>\n",
       "      <td>FEMALE</td>\n",
       "      <td>RESOLVED</td>\n",
       "      <td>No</td>\n",
       "      <td>No</td>\n",
       "      <td>No</td>\n",
       "      <td>No</td>\n",
       "      <td>No</td>\n",
       "      <td>No</td>\n",
       "    </tr>\n",
       "    <tr>\n",
       "      <th>4</th>\n",
       "      <td>44298</td>\n",
       "      <td>Sporadic</td>\n",
       "      <td>30-39</td>\n",
       "      <td>Rouge</td>\n",
       "      <td>M1B</td>\n",
       "      <td>Close contact</td>\n",
       "      <td>CONFIRMED</td>\n",
       "      <td>2020-05-31</td>\n",
       "      <td>2020-06-06</td>\n",
       "      <td>FEMALE</td>\n",
       "      <td>RESOLVED</td>\n",
       "      <td>No</td>\n",
       "      <td>No</td>\n",
       "      <td>No</td>\n",
       "      <td>No</td>\n",
       "      <td>No</td>\n",
       "      <td>No</td>\n",
       "    </tr>\n",
       "    <tr>\n",
       "      <th>5</th>\n",
       "      <td>44299</td>\n",
       "      <td>Sporadic</td>\n",
       "      <td>20-29</td>\n",
       "      <td>Rouge</td>\n",
       "      <td>M1B</td>\n",
       "      <td>Close contact</td>\n",
       "      <td>CONFIRMED</td>\n",
       "      <td>2020-06-01</td>\n",
       "      <td>2020-06-06</td>\n",
       "      <td>MALE</td>\n",
       "      <td>RESOLVED</td>\n",
       "      <td>No</td>\n",
       "      <td>No</td>\n",
       "      <td>No</td>\n",
       "      <td>No</td>\n",
       "      <td>No</td>\n",
       "      <td>No</td>\n",
       "    </tr>\n",
       "    <tr>\n",
       "      <th>6</th>\n",
       "      <td>44300</td>\n",
       "      <td>Sporadic</td>\n",
       "      <td>60-69</td>\n",
       "      <td>Rouge</td>\n",
       "      <td>M1B</td>\n",
       "      <td>Community</td>\n",
       "      <td>CONFIRMED</td>\n",
       "      <td>2020-05-22</td>\n",
       "      <td>2020-06-01</td>\n",
       "      <td>MALE</td>\n",
       "      <td>RESOLVED</td>\n",
       "      <td>No</td>\n",
       "      <td>No</td>\n",
       "      <td>No</td>\n",
       "      <td>No</td>\n",
       "      <td>No</td>\n",
       "      <td>No</td>\n",
       "    </tr>\n",
       "    <tr>\n",
       "      <th>7</th>\n",
       "      <td>44301</td>\n",
       "      <td>Sporadic</td>\n",
       "      <td>30-39</td>\n",
       "      <td>Rouge</td>\n",
       "      <td>M1B</td>\n",
       "      <td>Close contact</td>\n",
       "      <td>PROBABLE</td>\n",
       "      <td>2020-05-26</td>\n",
       "      <td>2020-06-02</td>\n",
       "      <td>MALE</td>\n",
       "      <td>RESOLVED</td>\n",
       "      <td>No</td>\n",
       "      <td>No</td>\n",
       "      <td>No</td>\n",
       "      <td>No</td>\n",
       "      <td>No</td>\n",
       "      <td>No</td>\n",
       "    </tr>\n",
       "    <tr>\n",
       "      <th>8</th>\n",
       "      <td>44302</td>\n",
       "      <td>Sporadic</td>\n",
       "      <td>30-39</td>\n",
       "      <td>Malvern</td>\n",
       "      <td>M1B</td>\n",
       "      <td>Close contact</td>\n",
       "      <td>CONFIRMED</td>\n",
       "      <td>2020-05-11</td>\n",
       "      <td>2020-05-16</td>\n",
       "      <td>MALE</td>\n",
       "      <td>RESOLVED</td>\n",
       "      <td>No</td>\n",
       "      <td>No</td>\n",
       "      <td>No</td>\n",
       "      <td>No</td>\n",
       "      <td>No</td>\n",
       "      <td>No</td>\n",
       "    </tr>\n",
       "    <tr>\n",
       "      <th>9</th>\n",
       "      <td>44303</td>\n",
       "      <td>Sporadic</td>\n",
       "      <td>19 and younger</td>\n",
       "      <td>Malvern</td>\n",
       "      <td>M1B</td>\n",
       "      <td>Close contact</td>\n",
       "      <td>PROBABLE</td>\n",
       "      <td>2020-06-06</td>\n",
       "      <td>2020-06-09</td>\n",
       "      <td>MALE</td>\n",
       "      <td>RESOLVED</td>\n",
       "      <td>No</td>\n",
       "      <td>No</td>\n",
       "      <td>No</td>\n",
       "      <td>No</td>\n",
       "      <td>No</td>\n",
       "      <td>No</td>\n",
       "    </tr>\n",
       "  </tbody>\n",
       "</table>\n",
       "</div>"
      ],
      "text/plain": [
       "     _id  Outbreak Associated       Age Group Neighbourhood Name  FSA  \\\n",
       "0  44294             Sporadic           50-59            Malvern  M1B   \n",
       "1  44295             Sporadic           20-29            Malvern  M1B   \n",
       "2  44296             Sporadic           60-69            Malvern  M1B   \n",
       "3  44297  Outbreak Associated           50-59              Rouge  M1B   \n",
       "4  44298             Sporadic           30-39              Rouge  M1B   \n",
       "5  44299             Sporadic           20-29              Rouge  M1B   \n",
       "6  44300             Sporadic           60-69              Rouge  M1B   \n",
       "7  44301             Sporadic           30-39              Rouge  M1B   \n",
       "8  44302             Sporadic           30-39            Malvern  M1B   \n",
       "9  44303             Sporadic  19 and younger            Malvern  M1B   \n",
       "\n",
       "         Source of Infection Classification Episode Date Reported Date  \\\n",
       "0              Institutional      CONFIRMED   2020-03-25    2020-03-27   \n",
       "1                  Community      CONFIRMED   2020-03-20    2020-03-28   \n",
       "2                     Travel      CONFIRMED   2020-03-04    2020-03-08   \n",
       "3  N/A - Outbreak associated      CONFIRMED   2020-05-02    2020-05-04   \n",
       "4              Close contact      CONFIRMED   2020-05-31    2020-06-06   \n",
       "5              Close contact      CONFIRMED   2020-06-01    2020-06-06   \n",
       "6                  Community      CONFIRMED   2020-05-22    2020-06-01   \n",
       "7              Close contact       PROBABLE   2020-05-26    2020-06-02   \n",
       "8              Close contact      CONFIRMED   2020-05-11    2020-05-16   \n",
       "9              Close contact       PROBABLE   2020-06-06    2020-06-09   \n",
       "\n",
       "  Client Gender   Outcome Currently Hospitalized Currently in ICU  \\\n",
       "0          MALE  RESOLVED                     No               No   \n",
       "1          MALE  RESOLVED                     No               No   \n",
       "2        FEMALE  RESOLVED                     No               No   \n",
       "3        FEMALE  RESOLVED                     No               No   \n",
       "4        FEMALE  RESOLVED                     No               No   \n",
       "5          MALE  RESOLVED                     No               No   \n",
       "6          MALE  RESOLVED                     No               No   \n",
       "7          MALE  RESOLVED                     No               No   \n",
       "8          MALE  RESOLVED                     No               No   \n",
       "9          MALE  RESOLVED                     No               No   \n",
       "\n",
       "  Currently Intubated Ever Hospitalized Ever in ICU Ever Intubated  \n",
       "0                  No                No          No             No  \n",
       "1                  No               Yes          No             No  \n",
       "2                  No               Yes         Yes            Yes  \n",
       "3                  No                No          No             No  \n",
       "4                  No                No          No             No  \n",
       "5                  No                No          No             No  \n",
       "6                  No                No          No             No  \n",
       "7                  No                No          No             No  \n",
       "8                  No                No          No             No  \n",
       "9                  No                No          No             No  "
      ]
     },
     "execution_count": 46,
     "metadata": {},
     "output_type": "execute_result"
    }
   ],
   "source": [
    "data.head(10)"
   ]
  },
  {
   "cell_type": "code",
   "execution_count": 47,
   "metadata": {},
   "outputs": [
    {
     "data": {
      "text/plain": [
       "_id                        int64\n",
       "Outbreak Associated       object\n",
       "Age Group                 object\n",
       "Neighbourhood Name        object\n",
       "FSA                       object\n",
       "Source of Infection       object\n",
       "Classification            object\n",
       "Episode Date              object\n",
       "Reported Date             object\n",
       "Client Gender             object\n",
       "Outcome                   object\n",
       "Currently Hospitalized    object\n",
       "Currently in ICU          object\n",
       "Currently Intubated       object\n",
       "Ever Hospitalized         object\n",
       "Ever in ICU               object\n",
       "Ever Intubated            object\n",
       "dtype: object"
      ]
     },
     "execution_count": 47,
     "metadata": {},
     "output_type": "execute_result"
    }
   ],
   "source": [
    "data.dtypes"
   ]
  },
  {
   "cell_type": "code",
   "execution_count": 5,
   "metadata": {},
   "outputs": [
    {
     "data": {
      "text/plain": [
       "_id                                int64\n",
       "Outbreak Associated               object\n",
       "Age Group                         object\n",
       "Neighbourhood Name                object\n",
       "FSA                               object\n",
       "Source of Infection               object\n",
       "Classification                    object\n",
       "Episode Date              datetime64[ns]\n",
       "Reported Date             datetime64[ns]\n",
       "Client Gender                     object\n",
       "Outcome                           object\n",
       "Currently Hospitalized            object\n",
       "Currently in ICU                  object\n",
       "Currently Intubated               object\n",
       "Ever Hospitalized                 object\n",
       "Ever in ICU                       object\n",
       "Ever Intubated                    object\n",
       "dtype: object"
      ]
     },
     "execution_count": 5,
     "metadata": {},
     "output_type": "execute_result"
    }
   ],
   "source": [
    "#change date columns from object to datetime \n",
    "data[\"Episode Date\"] = pd.to_datetime(data[\"Episode Date\"])\n",
    "data[\"Reported Date\"] = pd.to_datetime(data[\"Reported Date\"])\n",
    "data.dtypes"
   ]
  },
  {
   "cell_type": "code",
   "execution_count": 6,
   "metadata": {},
   "outputs": [
    {
     "name": "stdout",
     "output_type": "stream",
     "text": [
      "_id                         0\n",
      "Outbreak Associated         0\n",
      "Age Group                  32\n",
      "Neighbourhood Name        613\n",
      "FSA                       567\n",
      "Source of Infection         0\n",
      "Classification              0\n",
      "Episode Date                0\n",
      "Reported Date               0\n",
      "Client Gender               0\n",
      "Outcome                     0\n",
      "Currently Hospitalized      0\n",
      "Currently in ICU            0\n",
      "Currently Intubated         0\n",
      "Ever Hospitalized           0\n",
      "Ever in ICU                 0\n",
      "Ever Intubated              0\n",
      "dtype: int64\n"
     ]
    }
   ],
   "source": [
    "not_null_counts = data.isnull().sum()\n",
    "print(not_null_counts)"
   ]
  },
  {
   "cell_type": "code",
   "execution_count": 7,
   "metadata": {},
   "outputs": [
    {
     "name": "stdout",
     "output_type": "stream",
     "text": [
      "Male Count: 6747\n",
      "Male Percentage:  0.4603575327510917\n",
      "Female Count: 7909\n",
      "Female percentage:  0.5396424672489083\n"
     ]
    }
   ],
   "source": [
    "male_count = (data['Client Gender'] == 'MALE').sum()\n",
    "female_count = (data['Client Gender'] == 'FEMALE').sum()\n",
    "percentage_male = male_count/(female_count + male_count)\n",
    "percentage_female = 1 - percentage_male\n",
    "\n",
    "# Print the results:\n",
    "#Male\n",
    "print(\"Male Count:\", male_count)\n",
    "print(\"Male Percentage: \", percentage_male)\n",
    "#Female\n",
    "print(\"Female Count:\", female_count)\n",
    "print(\"Female percentage: \", percentage_female)"
   ]
  },
  {
   "cell_type": "code",
   "execution_count": 8,
   "metadata": {},
   "outputs": [
    {
     "name": "stdout",
     "output_type": "stream",
     "text": [
      "resolved:  13195\n",
      "fatal:  1121\n",
      "active:  595\n"
     ]
    }
   ],
   "source": [
    "#look at the OUTCOME column \n",
    "outcome = data['Outcome']\n",
    "resolved = outcome == 'RESOLVED'\n",
    "fatal = outcome == 'FATAL'\n",
    "active = outcome == 'ACTIVE'\n",
    "\n",
    "resolved_count = resolved.sum()\n",
    "print('resolved: ', resolved_count)\n",
    "fatal_count = fatal.sum()\n",
    "print(\"fatal: \", fatal_count)\n",
    "active_count = active.sum()\n",
    "print('active: ', active_count)\n",
    "\n",
    "\n"
   ]
  },
  {
   "cell_type": "code",
   "execution_count": 9,
   "metadata": {},
   "outputs": [],
   "source": [
    "#create a histogram plot function with count()\n",
    "def histogram_chart(column, #which column of the dataset\n",
    "                    x_label, #input x name\n",
    "                    y_label, #input y name\n",
    "                    chart_title, #input chart title\n",
    "                    sort #do you want to sort the values yes or no input only\n",
    "                    ):\n",
    "    if sort == 'yes' or 'Yes' or 'YES':\n",
    "        plt.figure(figsize = (8, 6))\n",
    "        data[column].value_counts().sort_index().plot(kind = \"bar\", color = \"skyblue\", edgecolor = \"black\")\n",
    "        plt.xlabel(f\"{x_label}\")\n",
    "        plt.ylabel(f\"{y_label}\")\n",
    "        plt.title(f\"{chart_title}\")\n",
    "        plt.tight_layout()\n",
    "        plt.show()\n",
    "    else:\n",
    "        plt.figure(figsize = (8, 6))\n",
    "        data[column].value_counts().plot(kind = \"bar\", color = \"skyblue\", edgecolor = \"black\")\n",
    "        plt.xlabel(f\"{x_label}\")\n",
    "        plt.ylabel(f\"{y_label}\")\n",
    "        plt.title(f\"{chart_title}\")\n",
    "        plt.tight_layout()\n",
    "        plt.show()\n"
   ]
  },
  {
   "cell_type": "code",
   "execution_count": 52,
   "metadata": {},
   "outputs": [],
   "source": [
    "#function to get the count number for each unique in data['']\n",
    "def unique_count(data, source):\n",
    "    unique_values = data[source].unique()\n",
    "    count_dict = {}\n",
    "    for value in unique_values:\n",
    "        count = (data[source] == value).sum()\n",
    "        count_dict[value] = count\n",
    "    return count_dict"
   ]
  },
  {
   "cell_type": "code",
   "execution_count": 53,
   "metadata": {},
   "outputs": [
    {
     "data": {
      "image/png": "[encoded data removed]",
      "text/plain": [
       "<Figure size 800x600 with 1 Axes>"
      ]
     },
     "metadata": {},
     "output_type": "display_data"
    },
    {
     "data": {
      "text/plain": [
       "{'50-59': 2354,\n",
       " '20-29': 2135,\n",
       " '60-69': 1598,\n",
       " '30-39': 2101,\n",
       " '19 and younger': 915,\n",
       " '80-89': 1531,\n",
       " '70-79': 1052,\n",
       " '40-49': 2095,\n",
       " nan: 0,\n",
       " '90+': 1098}"
      ]
     },
     "execution_count": 53,
     "metadata": {},
     "output_type": "execute_result"
    }
   ],
   "source": [
    "histogram_chart('Age Group', 'Age Group', 'count', 'Age Group Histogram', 'yes')\n",
    "unique_count(data, 'Age Group')"
   ]
  },
  {
   "cell_type": "code",
   "execution_count": 54,
   "metadata": {},
   "outputs": [
    {
     "data": {
      "image/png": "[encoded data removed]",
      "text/plain": [
       "<Figure size 800x600 with 1 Axes>"
      ]
     },
     "metadata": {},
     "output_type": "display_data"
    },
    {
     "name": "stdout",
     "output_type": "stream",
     "text": [
      "{'Institutional': 301, 'Community': 1991, 'Travel': 488, 'N/A - Outbreak associated': 5578, 'Close contact': 4998, 'Pending': 294, 'Healthcare': 897, 'Unknown/Missing': 364}\n"
     ]
    }
   ],
   "source": [
    "histogram_chart('Source of Infection', 'Source of Infection', 'count', 'Source of Infection Histogram', 'yes')\n",
    "result = unique_count(data, 'Source of Infection')\n",
    "print(result)"
   ]
  }
 ],
 "metadata": {
  "kernelspec": {
   "display_name": "base",
   "language": "python",
   "name": "python3"
  },
  "language_info": {
   "codemirror_mode": {
    "name": "ipython",
    "version": 3
   },
   "file_extension": ".py",
   "mimetype": "text/x-python",
   "name": "python",
   "nbconvert_exporter": "python",
   "pygments_lexer": "ipython3",
   "version": "3.9.16"
  }
 },
 "nbformat": 4,
 "nbformat_minor": 2
}
